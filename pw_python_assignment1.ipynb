{
 "cells": [
  {
   "cell_type": "markdown",
   "id": "05ff2bd7",
   "metadata": {},
   "source": [
    "# Create one variable containing following type of data:\n",
    "(i) string\n",
    "(ii) list\n",
    "(iii) float\n",
    "(iv) tuple"
   ]
  },
  {
   "cell_type": "code",
   "execution_count": 1,
   "id": "4a3a68ff",
   "metadata": {},
   "outputs": [],
   "source": [
    "my_str=\"Hello student\"\n",
    "my_list=[1,8,'abc']\n",
    "my_float=3.147\n",
    "my_tupple=(\"aff\",\"ghua\",\"ggfrt\")"
   ]
  },
  {
   "cell_type": "markdown",
   "id": "c5abdb65",
   "metadata": {},
   "source": [
    "# Q2. Given are some following variables containing data:\n",
    "(i) var1 = ‘ ‘\n",
    "(ii) var2 = ‘[ DS , ML , Python]’\n",
    "(iii) var3 = [ ‘DS’ , ’ML’ , ‘Python’ ]\n",
    "(iv) var4 = 1."
   ]
  },
  {
   "cell_type": "code",
   "execution_count": 8,
   "id": "28e7ad21",
   "metadata": {},
   "outputs": [
    {
     "data": {
      "text/plain": [
       "str"
      ]
     },
     "execution_count": 8,
     "metadata": {},
     "output_type": "execute_result"
    }
   ],
   "source": [
    "var1 = '' \n",
    "type(var1) "
   ]
  },
  {
   "cell_type": "code",
   "execution_count": 9,
   "id": "ffbde368",
   "metadata": {},
   "outputs": [
    {
     "data": {
      "text/plain": [
       "str"
      ]
     },
     "execution_count": 9,
     "metadata": {},
     "output_type": "execute_result"
    }
   ],
   "source": [
    "var2 = '[ DS , ML , Python]'\n",
    "type(var2)"
   ]
  },
  {
   "cell_type": "code",
   "execution_count": 10,
   "id": "371be29e",
   "metadata": {},
   "outputs": [
    {
     "data": {
      "text/plain": [
       "list"
      ]
     },
     "execution_count": 10,
     "metadata": {},
     "output_type": "execute_result"
    }
   ],
   "source": [
    "var3 = [ 'DS' , 'ML' , 'Python' ] \n",
    "type(var3)"
   ]
  },
  {
   "cell_type": "code",
   "execution_count": 11,
   "id": "2455240c",
   "metadata": {},
   "outputs": [
    {
     "data": {
      "text/plain": [
       "int"
      ]
     },
     "execution_count": 11,
     "metadata": {},
     "output_type": "execute_result"
    }
   ],
   "source": [
    "var4 = 1\n",
    "type(var4)"
   ]
  },
  {
   "cell_type": "markdown",
   "id": "92f90975",
   "metadata": {},
   "source": [
    "# Q3. Explain the use of the following operators using an example:\n",
    "(i) /\n",
    "(ii) %\n",
    "(iii) //\n",
    "(iv) **"
   ]
  },
  {
   "cell_type": "code",
   "execution_count": 12,
   "id": "be1cd911",
   "metadata": {},
   "outputs": [],
   "source": [
    "a=10\n",
    "b=3"
   ]
  },
  {
   "cell_type": "code",
   "execution_count": 13,
   "id": "716ce0a8",
   "metadata": {},
   "outputs": [
    {
     "data": {
      "text/plain": [
       "3.3333333333333335"
      ]
     },
     "execution_count": 13,
     "metadata": {},
     "output_type": "execute_result"
    }
   ],
   "source": [
    "a/b"
   ]
  },
  {
   "cell_type": "code",
   "execution_count": 14,
   "id": "05b8b150",
   "metadata": {},
   "outputs": [
    {
     "data": {
      "text/plain": [
       "1"
      ]
     },
     "execution_count": 14,
     "metadata": {},
     "output_type": "execute_result"
    }
   ],
   "source": [
    "a%b"
   ]
  },
  {
   "cell_type": "code",
   "execution_count": 15,
   "id": "11cb2d60",
   "metadata": {},
   "outputs": [
    {
     "data": {
      "text/plain": [
       "3"
      ]
     },
     "execution_count": 15,
     "metadata": {},
     "output_type": "execute_result"
    }
   ],
   "source": [
    "a//b"
   ]
  },
  {
   "cell_type": "code",
   "execution_count": 16,
   "id": "6643da57",
   "metadata": {},
   "outputs": [
    {
     "data": {
      "text/plain": [
       "1000"
      ]
     },
     "execution_count": 16,
     "metadata": {},
     "output_type": "execute_result"
    }
   ],
   "source": [
    "a**b"
   ]
  },
  {
   "cell_type": "markdown",
   "id": "d6f87c06",
   "metadata": {},
   "source": [
    "# Q4. Create a list of length 10 of your choice containing multiple types of data. Using for loop print the\n",
    "element and its data type."
   ]
  },
  {
   "cell_type": "code",
   "execution_count": 22,
   "id": "34622a19",
   "metadata": {},
   "outputs": [
    {
     "name": "stdout",
     "output_type": "stream",
     "text": [
      "1\n",
      "<class 'int'>\n",
      "5\n",
      "<class 'int'>\n",
      "8\n",
      "<class 'int'>\n",
      "das\n",
      "<class 'str'>\n",
      "pwskill\n",
      "<class 'str'>\n",
      "8.5\n",
      "<class 'float'>\n",
      "4.69\n",
      "<class 'float'>\n",
      "data\n",
      "<class 'str'>\n",
      "98\n",
      "<class 'int'>\n",
      "122\n",
      "<class 'int'>\n"
     ]
    }
   ],
   "source": [
    "list=[1,5,8,'das','pwskill',8.5,4.69,'data',98,122]\n",
    "for i in list:\n",
    "    print(i)\n",
    "    print(type(i))"
   ]
  },
  {
   "cell_type": "markdown",
   "id": "d801f75d",
   "metadata": {},
   "source": [
    "# Q5. Using a while loop, verify if the number A is purely divisible by number B and if so then how many\n",
    "times it can be divisible."
   ]
  },
  {
   "cell_type": "code",
   "execution_count": 28,
   "id": "83182679",
   "metadata": {},
   "outputs": [
    {
     "name": "stdout",
     "output_type": "stream",
     "text": [
      "40\n",
      "2\n",
      "A is divisible by B 3 times\n"
     ]
    }
   ],
   "source": [
    "A=int(input())\n",
    "B=int(input())\n",
    "count=0\n",
    "while A%B ==0 :\n",
    "    A=A/B\n",
    "    count+=1\n",
    "if count>0:\n",
    "    print(f\"A is divisible by B {count} times\")\n",
    "else :\n",
    "   print(\"A is not  divisible by B.\") "
   ]
  },
  {
   "cell_type": "markdown",
   "id": "f3570e1d",
   "metadata": {},
   "source": [
    "# Q6. Create a list containing 25 int type data. Using for loop and if-else condition print if the element is\n",
    "divisible by 3 or not."
   ]
  },
  {
   "cell_type": "code",
   "execution_count": 34,
   "id": "d5b41cd9",
   "metadata": {},
   "outputs": [
    {
     "name": "stdout",
     "output_type": "stream",
     "text": [
      "Not divisible\n",
      "Not divisible\n",
      "3\n",
      "Not divisible\n",
      "Not divisible\n",
      "6\n",
      "Not divisible\n",
      "Not divisible\n",
      "9\n",
      "Not divisible\n",
      "Not divisible\n",
      "12\n",
      "Not divisible\n",
      "Not divisible\n",
      "15\n",
      "Not divisible\n",
      "Not divisible\n",
      "18\n",
      "Not divisible\n",
      "Not divisible\n",
      "21\n",
      "Not divisible\n",
      "Not divisible\n",
      "24\n",
      "Not divisible\n"
     ]
    }
   ],
   "source": [
    "l=[1,2,3,4,5,6,7,8,9,10,11,12,13,14,15,16,17,18,19,20,21,22,23,24,25]\n",
    "for i in l :\n",
    "    if i%3==0 :\n",
    "        print(i)\n",
    "    else :\n",
    "        print(\"Not divisible\")\n",
    "    "
   ]
  },
  {
   "cell_type": "markdown",
   "id": "d0a867a2",
   "metadata": {},
   "source": [
    "# Q7. What do you understand about mutable and immutable data types? Give examples for both showing\n",
    "this property."
   ]
  },
  {
   "cell_type": "code",
   "execution_count": 35,
   "id": "dd549388",
   "metadata": {},
   "outputs": [
    {
     "name": "stdout",
     "output_type": "stream",
     "text": [
      "6\n",
      "HELLO\n"
     ]
    }
   ],
   "source": [
    "a = 5   # a is an integer, which is an immutable data type\n",
    "b = \"hello\"  # b is a string, which is also immutable\n",
    "\n",
    "a = a + 1  # creates a new integer object with value 6, and assigns it to a\n",
    "b = b.upper()  # creates a new string object with all uppercase characters, and assigns it to b\n",
    "\n",
    "print(a)  # output: 6\n",
    "print(b)  # output: \"HELLO\"\n"
   ]
  },
  {
   "cell_type": "code",
   "execution_count": 36,
   "id": "bcbde2ce",
   "metadata": {},
   "outputs": [
    {
     "name": "stdout",
     "output_type": "stream",
     "text": [
      "[1, 2, 3, 4]\n",
      "{'a': 1, 'b': 2, 'c': 3}\n"
     ]
    }
   ],
   "source": [
    "c = [1, 2, 3]  # c is a list, which is a mutable data type\n",
    "d = {\"a\": 1, \"b\": 2}  # d is a dictionary, which is also mutable\n",
    "\n",
    "c.append(4)  # modifies the existing list object to add a new element\n",
    "d[\"c\"] = 3  # modifies the existing dictionary object to add a new key-value pair\n",
    "\n",
    "print(c)  # output: [1, 2, 3, 4]\n",
    "print(d)  # output: {\"a\": 1, \"b\": 2, \"c\": 3}\n"
   ]
  },
  {
   "cell_type": "code",
   "execution_count": null,
   "id": "30c49f2e",
   "metadata": {},
   "outputs": [],
   "source": []
  }
 ],
 "metadata": {
  "kernelspec": {
   "display_name": "Python 3 (ipykernel)",
   "language": "python",
   "name": "python3"
  },
  "language_info": {
   "codemirror_mode": {
    "name": "ipython",
    "version": 3
   },
   "file_extension": ".py",
   "mimetype": "text/x-python",
   "name": "python",
   "nbconvert_exporter": "python",
   "pygments_lexer": "ipython3",
   "version": "3.10.4"
  }
 },
 "nbformat": 4,
 "nbformat_minor": 5
}
